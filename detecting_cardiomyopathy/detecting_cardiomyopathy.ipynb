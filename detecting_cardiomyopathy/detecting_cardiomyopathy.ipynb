{
 "cells": [
  {
   "cell_type": "code",
   "execution_count": 78,
   "id": "932dd2e2",
   "metadata": {},
   "outputs": [],
   "source": [
    "# from sklearn.metrics import accuracy_score, confusion_matrix, classification_report\n",
    "from sklearn.model_selection import GridSearchCV, RepeatedStratifiedKFold, cross_val_predict, cross_val_score, train_test_split\n",
    "from sklearn.preprocessing import StandardScaler, FunctionTransformer\n",
    "from sklearn.neighbors import KNeighborsClassifier\n",
    "# from sklearn.tree import DecisionTreeClassifier\n",
    "# from sklearn.svm import SVC\n",
    "# from sklearn.linear_model import LogisticRegression\n",
    "# from sklearn.ensemble import RandomForestClassifier, VotingClassifier\n",
    "# from sklearn.gaussian_process import GaussianProcessClassifier\n",
    "# from sklearn.gaussian_process.kernels import RBF\n",
    "# from sklearn.naive_bayes import GaussianNB\n",
    "from sklearn.pipeline import Pipeline\n",
    "import pandas as pd\n",
    "import numpy as np"
   ]
  },
  {
   "cell_type": "markdown",
   "id": "91bac2e6",
   "metadata": {},
   "source": [
    "# Problem Overview\n",
    "Cardiomyopathy is a disease that weakens the heart muscle. This makes it harder for your heart to pump blood.\n",
    "In this classification problem we`ll try to detect this disease using one of machine learning methods - K-Nearest-Neighbours\n",
    "(if you need further information about this method: https://scikit-learn.org/stable/modules/neighbors.html).\n",
    "In the directory there is file called task_data which contains data of different hearts.\n",
    "Numbers in second columns state whether heart is diseased or not:\n",
    "**1 (diseased heart)**,\n",
    "**0 (healthy heart)**  \n",
    "  \n",
    "K-Nearest-Neighbours method will be used to learn from data and predict outcomes for new cases.\n",
    "\n"
   ]
  },
  {
   "cell_type": "code",
   "execution_count": 79,
   "id": "f7247816",
   "metadata": {},
   "outputs": [],
   "source": [
    "'''\n",
    "Loading data into pandas DataFrame\n",
    "'''\n",
    "data = pd.read_csv('task_data.csv')   \n",
    "\n",
    "\n",
    "'''\n",
    "Let's see that certain columns have ',' as a separator instead of '.' so we need to exchange it\n",
    "'''\n",
    "def dot_for_comma(data):\n",
    "    if not isinstance(data, pd.DataFrame):\n",
    "        return data\n",
    "\n",
    "    data['Inscribed circle radius'] = data['Inscribed circle radius'].str.replace(',', '.')\n",
    "    data['Heart perimeter'] = data['Heart perimeter'].str.replace(',', '.')\n",
    "    data['CTR - Cardiothoracic Ratio'] = data['CTR - Cardiothoracic Ratio'].str.replace(',', '.')\n",
    "    return data\n",
    "\n",
    "\n",
    "data = dot_for_comma(data)\n",
    "    \n",
    "\n",
    "\n",
    "'''\n",
    "We create 2 Dataframes: first with our features, and second with outcomes\n",
    "'''\n",
    "\n",
    "X = data.drop('Cardiomegaly', axis = 1)    \n",
    "Y = data['Cardiomegaly'].copy()\n",
    "\n",
    "'''\n",
    "Let`s split our dataset into training and tested data\n",
    "parameter named 'random state' makes the data divided into permanent groups\n",
    "'''\n",
    "\n",
    "x_train, x_test, y_train, y_test = train_test_split(X, Y, test_size=0.2, random_state=42) \n",
    "\n",
    "\n",
    "\n",
    "\n"
   ]
  },
  {
   "cell_type": "code",
   "execution_count": 80,
   "id": "b74921d3",
   "metadata": {},
   "outputs": [
    {
     "name": "stdout",
     "output_type": "stream",
     "text": [
      "Scores of training data cross-validation (each fold):\n",
      "[1.   0.83 0.67 0.83 1.  ]\n",
      "\n",
      "Cross-validation mean score: 0.866\n",
      "Standard deviation of CV score: 0.124\n"
     ]
    }
   ],
   "source": [
    "'''\n",
    "We can use pipeline to speed up all the processes\n",
    "'''\n",
    "\n",
    "pipe_knn = Pipeline(steps=[    \n",
    "    (\"scaler\", StandardScaler()),     # Standardizing features is crucial in machine learning to get outcome based on all of them (features)\n",
    "                                      # (if there were a huge difference between values, the result may depend on only one feature)\n",
    "    (\"model\", KNeighborsClassifier(   \n",
    "        n_neighbors = 3,              # Number of neighbors used to predict value (less is better for little amount of data)\n",
    "        \n",
    "        weights='distance',           # Weight controls how much influence each neighbor has when making a prediction.                                      \n",
    "                                      # closer neighbors of a query point will have a greater influence than neighbors which are further away.        \n",
    "       \n",
    "        metric='manhattan'            \n",
    "    ))\n",
    "])\n",
    "\n",
    "\n",
    "'''\n",
    "Avoid this line below if u use cross_val_score (it can lead to data leakage and scores can be higher) \n",
    "'''\n",
    "#pipe_knn.fit(x_train, y_train)\n",
    "\n",
    "\n",
    "'''\n",
    "First param: estimator: model to fit the data\n",
    "cv: how many divisions (folds) are to be made\n",
    "cross_val_score() returns array of scores of the estimator for each run of the cross validation.\n",
    "'''\n",
    "cv_score = np.round(cross_val_score(pipe_knn, x_train, y_train, cv = 5), 2)   # only 2 digits after comma\n",
    "\n",
    "print(\"Scores of training data cross-validation (each fold):\")\n",
    "print(cv_score)\n",
    "print(f\"\\nCross-validation mean score: {np.mean(cv_score):.3}\")\n",
    "print(f\"Standard deviation of CV score: {np.std(cv_score):.3f}\")\n",
    "\n",
    "\n",
    "# Because of the fact that we have't got many samples, it is possible to have sometimes 100% accuracy\n",
    "\n"
   ]
  },
  {
   "cell_type": "markdown",
   "id": "efefda27",
   "metadata": {},
   "source": [
    "***"
   ]
  }
 ],
 "metadata": {
  "kernelspec": {
   "display_name": "AI_AGH",
   "language": "python",
   "name": "ai_agh"
  },
  "language_info": {
   "codemirror_mode": {
    "name": "ipython",
    "version": 3
   },
   "file_extension": ".py",
   "mimetype": "text/x-python",
   "name": "python",
   "nbconvert_exporter": "python",
   "pygments_lexer": "ipython3",
   "version": "3.12.7"
  }
 },
 "nbformat": 4,
 "nbformat_minor": 5
}
